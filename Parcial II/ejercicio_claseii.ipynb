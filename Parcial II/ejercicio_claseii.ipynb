{
 "cells": [
  {
   "cell_type": "code",
   "execution_count": 1,
   "id": "52a5c8b0",
   "metadata": {},
   "outputs": [],
   "source": [
    "import neurolab as nl\n",
    "import matplotlib.pyplot as pl"
   ]
  },
  {
   "cell_type": "code",
   "execution_count": 2,
   "id": "a98b874d",
   "metadata": {},
   "outputs": [],
   "source": [
    "entradas = ([0,0.1],[1,0.5],[0.5,1],[1,1])"
   ]
  },
  {
   "cell_type": "code",
   "execution_count": 3,
   "id": "4f5552d8",
   "metadata": {},
   "outputs": [],
   "source": [
    "salidas = [[0],[1],[0],[1]]"
   ]
  },
  {
   "cell_type": "code",
   "execution_count": 4,
   "id": "4f0d3b19",
   "metadata": {},
   "outputs": [],
   "source": [
    "net = nl.net.newp([[0,1],[0,1]],1)"
   ]
  },
  {
   "cell_type": "code",
   "execution_count": 5,
   "id": "d76a3d35",
   "metadata": {},
   "outputs": [
    {
     "name": "stdout",
     "output_type": "stream",
     "text": [
      "The goal of learning is reached\n"
     ]
    }
   ],
   "source": [
    "error = net.train(entradas,salidas,epochs=100,show=10,lr=0.1)"
   ]
  },
  {
   "cell_type": "code",
   "execution_count": 6,
   "id": "30f36fe5",
   "metadata": {},
   "outputs": [
    {
     "data": {
      "image/png": "[encoded data removed]",
      "text/plain": [
       "<Figure size 432x288 with 1 Axes>"
      ]
     },
     "metadata": {
      "needs_background": "light"
     },
     "output_type": "display_data"
    }
   ],
   "source": [
    "pl.plot(error)\n",
    "pl.xlabel(\"Cant. Error\")\n",
    "pl.ylabel(\"Entrenamiento\")\n",
    "pl.grid()\n",
    "pl.show()"
   ]
  },
  {
   "cell_type": "code",
   "execution_count": 7,
   "id": "7789947b",
   "metadata": {},
   "outputs": [
    {
     "data": {
      "text/plain": [
       "array([[1.]])"
      ]
     },
     "execution_count": 7,
     "metadata": {},
     "output_type": "execute_result"
    }
   ],
   "source": [
    "net.sim([[0,1]])\n",
    "net.sim([[1,1]])"
   ]
  },
  {
   "cell_type": "code",
   "execution_count": null,
   "id": "41607835",
   "metadata": {},
   "outputs": [],
   "source": []
  }
 ],
 "metadata": {
  "kernelspec": {
   "display_name": "Python 3 (ipykernel)",
   "language": "python",
   "name": "python3"
  },
  "language_info": {
   "codemirror_mode": {
    "name": "ipython",
    "version": 3
   },
   "file_extension": ".py",
   "mimetype": "text/x-python",
   "name": "python",
   "nbconvert_exporter": "python",
   "pygments_lexer": "ipython3",
   "version": "3.8.10"
  }
 },
 "nbformat": 4,
 "nbformat_minor": 5
}
