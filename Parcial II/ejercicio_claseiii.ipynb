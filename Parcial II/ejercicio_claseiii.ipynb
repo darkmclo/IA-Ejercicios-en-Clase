{
 "cells": [
  {
   "cell_type": "code",
   "execution_count": 1,
   "id": "530cf97f",
   "metadata": {},
   "outputs": [],
   "source": [
    "import neurolab as nl\n",
    "import matplotlib.pyplot as pl"
   ]
  },
  {
   "cell_type": "code",
   "execution_count": 2,
   "id": "dde183ca",
   "metadata": {},
   "outputs": [],
   "source": [
    "entradas = ([1,0],[1,0.5],[1,1],[0.5,0],[0.5,0.5],[0.5,1],[0,0],[0,0.5],[0,1])"
   ]
  },
  {
   "cell_type": "code",
   "execution_count": 3,
   "id": "b1e1b3a7",
   "metadata": {},
   "outputs": [],
   "source": [
    "salidas = [[0],[0],[1],[0],[1],[1],[1],[1],[1]]"
   ]
  },
  {
   "cell_type": "code",
   "execution_count": 4,
   "id": "25065508",
   "metadata": {},
   "outputs": [],
   "source": [
    "net = nl.net.newp([[0,1],[0,1]],1)"
   ]
  },
  {
   "cell_type": "code",
   "execution_count": 5,
   "id": "017ff943",
   "metadata": {},
   "outputs": [
    {
     "name": "stdout",
     "output_type": "stream",
     "text": [
      "The goal of learning is reached\n"
     ]
    }
   ],
   "source": [
    "error = net.train(entradas,salidas,epochs=2000,show=10,lr=0.1)"
   ]
  },
  {
   "cell_type": "code",
   "execution_count": 6,
   "id": "cf16f402",
   "metadata": {},
   "outputs": [
    {
     "data": {
      "image/png": "[encoded data removed]",
      "text/plain": [
       "<Figure size 432x288 with 1 Axes>"
      ]
     },
     "metadata": {
      "needs_background": "light"
     },
     "output_type": "display_data"
    }
   ],
   "source": [
    "pl.plot(error)\n",
    "pl.xlabel(\"Cant. Error\")\n",
    "pl.ylabel(\"Entrenamiento\")\n",
    "pl.grid()\n",
    "pl.show()"
   ]
  },
  {
   "cell_type": "code",
   "execution_count": 7,
   "id": "4120c5fb",
   "metadata": {
    "scrolled": true
   },
   "outputs": [
    {
     "name": "stdout",
     "output_type": "stream",
     "text": [
      "El resultado es [[1.]]\n",
      "El resultado es [[1.]]\n",
      "El resultado es [[1.]]\n",
      "El resultado es [[1.]]\n",
      "El resultado es [[1.]]\n",
      "El resultado es [[0.]]\n",
      "El resultado es [[0.]]\n",
      "El resultado es [[0.]]\n",
      "El resultado es [[0.]]\n",
      "El resultado es [[1.]]\n",
      "El resultado es [[1.]]\n",
      "El resultado es [[1.]]\n",
      "El resultado es [[1.]]\n",
      "El resultado es [[0.]]\n",
      "El resultado es [[0.]]\n",
      "El resultado es [[0.]]\n",
      "El resultado es [[0.]]\n",
      "El resultado es [[0.]]\n"
     ]
    }
   ],
   "source": [
    "print(\"El resultado es \" + str(net.sim([[0.5,0.65]])))\n",
    "print(\"El resultado es \" + str(net.sim([[0.5,0.55]])))\n",
    "print(\"El resultado es \" + str(net.sim([[0.5,0.45]])))\n",
    "print(\"El resultado es \" + str(net.sim([[0.5,0.35]])))\n",
    "print(\"El resultado es \" + str(net.sim([[0.5,0.25]])))\n",
    "print(\"El resultado es \" + str(net.sim([[0.5,0.15]])))\n",
    "print(\"El resultado es \" + str(net.sim([[0.5,0.10]])))\n",
    "print(\"El resultado es \" + str(net.sim([[0.5,0.05]])))\n",
    "print(\"El resultado es \" + str(net.sim([[0.5,0]])))\n",
    "\n",
    "print(\"El resultado es \" + str(net.sim([[1,1]])))\n",
    "print(\"El resultado es \" + str(net.sim([[1,0.95]])))\n",
    "print(\"El resultado es \" + str(net.sim([[1,0.85]])))\n",
    "print(\"El resultado es \" + str(net.sim([[1,0.75]])))\n",
    "print(\"El resultado es \" + str(net.sim([[1,0.65]])))\n",
    "print(\"El resultado es \" + str(net.sim([[1,0.55]])))\n",
    "print(\"El resultado es \" + str(net.sim([[1,0.45]])))\n",
    "print(\"El resultado es \" + str(net.sim([[1,0.35]])))\n",
    "print(\"El resultado es \" + str(net.sim([[1,0]])))"
   ]
  }
 ],
 "metadata": {
  "kernelspec": {
   "display_name": "Python 3 (ipykernel)",
   "language": "python",
   "name": "python3"
  },
  "language_info": {
   "codemirror_mode": {
    "name": "ipython",
    "version": 3
   },
   "file_extension": ".py",
   "mimetype": "text/x-python",
   "name": "python",
   "nbconvert_exporter": "python",
   "pygments_lexer": "ipython3",
   "version": "3.8.10"
  }
 },
 "nbformat": 4,
 "nbformat_minor": 5
}
