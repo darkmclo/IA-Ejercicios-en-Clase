{
 "cells": [
  {
   "cell_type": "code",
   "execution_count": null,
   "id": "52a5c8b0",
   "metadata": {},
   "outputs": [],
   "source": [
    "import neurolab as nl\n",
    "import matplotlib.pyplot as pl"
   ]
  },
  {
   "cell_type": "code",
   "execution_count": null,
   "id": "a98b874d",
   "metadata": {},
   "outputs": [],
   "source": [
    "entradas = ([0,0.1],[1,0.5],[0.5.1],[1,1])"
   ]
  },
  {
   "cell_type": "code",
   "execution_count": null,
   "id": "4f5552d8",
   "metadata": {},
   "outputs": [],
   "source": [
    "salidas = [[0],[1],[0],[1]]"
   ]
  },
  {
   "cell_type": "code",
   "execution_count": null,
   "id": "4f0d3b19",
   "metadata": {},
   "outputs": [],
   "source": [
    "net = nl.net.newp([[0,1],[0,1]],1)"
   ]
  },
  {
   "cell_type": "code",
   "execution_count": null,
   "id": "47528a77",
   "metadata": {},
   "outputs": [],
   "source": [
    "error = net.train(entradas,salidas,epochs=100,show=10,lr=0.1)"
   ]
  },
  {
   "cell_type": "code",
   "execution_count": null,
   "id": "0c2e1496",
   "metadata": {},
   "outputs": [],
   "source": [
    "pl.grid"
   ]
  }
 ],
 "metadata": {
  "kernelspec": {
   "display_name": "Python 3 (ipykernel)",
   "language": "python",
   "name": "python3"
  },
  "language_info": {
   "codemirror_mode": {
    "name": "ipython",
    "version": 3
   },
   "file_extension": ".py",
   "mimetype": "text/x-python",
   "name": "python",
   "nbconvert_exporter": "python",
   "pygments_lexer": "ipython3",
   "version": "3.8.10"
  }
 },
 "nbformat": 4,
 "nbformat_minor": 5
}
